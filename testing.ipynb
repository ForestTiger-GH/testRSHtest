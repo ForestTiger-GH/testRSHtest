{
  "nbformat": 4,
  "nbformat_minor": 0,
  "metadata": {
    "colab": {
      "provenance": []
    },
    "kernelspec": {
      "name": "python3",
      "display_name": "Python 3"
    },
    "language_info": {
      "name": "python"
    }
  },
  "cells": [
    {
      "cell_type": "code",
      "execution_count": 1,
      "metadata": {
        "id": "_Hq0ZgKKgPIS"
      },
      "outputs": [],
      "source": [
        "import numpy\n",
        "import pandas"
      ]
    },
    {
      "cell_type": "code",
      "source": [
        "def f_sum(a, b):\n",
        "    return a + b"
      ],
      "metadata": {
        "id": "PTceuKUngRVY"
      },
      "execution_count": 3,
      "outputs": []
    }
  ]
}